{
 "cells": [
  {
   "cell_type": "markdown",
   "id": "e22dd210",
   "metadata": {},
   "source": [
    "## Exploratory Data Analysis"
   ]
  },
  {
   "cell_type": "markdown",
   "id": "412705db",
   "metadata": {},
   "source": [
    "### Load and Combine Years DataFrames"
   ]
  },
  {
   "cell_type": "code",
   "execution_count": 3,
   "id": "793ea0b0",
   "metadata": {},
   "outputs": [],
   "source": [
    "df_2000 = pd.read_csv('Data/final_tmdb_data_2000.csv.gz')\n",
    "df_2001 = pd.read_csv('Data/final_tmdb_data_2001.csv.gz')"
   ]
  },
  {
   "cell_type": "code",
   "execution_count": 4,
   "id": "ef75d524",
   "metadata": {},
   "outputs": [
    {
     "name": "stdout",
     "output_type": "stream",
     "text": [
      "2590\n"
     ]
    }
   ],
   "source": [
    "print(len(df_2000) + len(df_2001))"
   ]
  },
  {
   "cell_type": "code",
   "execution_count": 5,
   "id": "bfc72744",
   "metadata": {},
   "outputs": [
    {
     "data": {
      "text/html": [
       "<div>\n",
       "<style scoped>\n",
       "    .dataframe tbody tr th:only-of-type {\n",
       "        vertical-align: middle;\n",
       "    }\n",
       "\n",
       "    .dataframe tbody tr th {\n",
       "        vertical-align: top;\n",
       "    }\n",
       "\n",
       "    .dataframe thead th {\n",
       "        text-align: right;\n",
       "    }\n",
       "</style>\n",
       "<table border=\"1\" class=\"dataframe\">\n",
       "  <thead>\n",
       "    <tr style=\"text-align: right;\">\n",
       "      <th></th>\n",
       "      <th>imdb_id</th>\n",
       "      <th>adult</th>\n",
       "      <th>backdrop_path</th>\n",
       "      <th>belongs_to_collection</th>\n",
       "      <th>budget</th>\n",
       "      <th>genres</th>\n",
       "      <th>homepage</th>\n",
       "      <th>id</th>\n",
       "      <th>original_language</th>\n",
       "      <th>original_title</th>\n",
       "      <th>...</th>\n",
       "      <th>revenue</th>\n",
       "      <th>runtime</th>\n",
       "      <th>spoken_languages</th>\n",
       "      <th>status</th>\n",
       "      <th>tagline</th>\n",
       "      <th>title</th>\n",
       "      <th>video</th>\n",
       "      <th>vote_average</th>\n",
       "      <th>vote_count</th>\n",
       "      <th>certification</th>\n",
       "    </tr>\n",
       "  </thead>\n",
       "  <tbody>\n",
       "    <tr>\n",
       "      <th>0</th>\n",
       "      <td>0</td>\n",
       "      <td>NaN</td>\n",
       "      <td>NaN</td>\n",
       "      <td>NaN</td>\n",
       "      <td>NaN</td>\n",
       "      <td>NaN</td>\n",
       "      <td>NaN</td>\n",
       "      <td>NaN</td>\n",
       "      <td>NaN</td>\n",
       "      <td>NaN</td>\n",
       "      <td>...</td>\n",
       "      <td>NaN</td>\n",
       "      <td>NaN</td>\n",
       "      <td>NaN</td>\n",
       "      <td>NaN</td>\n",
       "      <td>NaN</td>\n",
       "      <td>NaN</td>\n",
       "      <td>NaN</td>\n",
       "      <td>NaN</td>\n",
       "      <td>NaN</td>\n",
       "      <td>NaN</td>\n",
       "    </tr>\n",
       "    <tr>\n",
       "      <th>1</th>\n",
       "      <td>tt0113026</td>\n",
       "      <td>0.0</td>\n",
       "      <td>/vMFs7nw6P0bIV1jDsQpxAieAVnH.jpg</td>\n",
       "      <td>NaN</td>\n",
       "      <td>10000000.0</td>\n",
       "      <td>[{'id': 35, 'name': 'Comedy'}, {'id': 10402, '...</td>\n",
       "      <td>NaN</td>\n",
       "      <td>62127.0</td>\n",
       "      <td>en</td>\n",
       "      <td>The Fantasticks</td>\n",
       "      <td>...</td>\n",
       "      <td>0.0</td>\n",
       "      <td>86.0</td>\n",
       "      <td>[{'english_name': 'English', 'iso_639_1': 'en'...</td>\n",
       "      <td>Released</td>\n",
       "      <td>Try to remember the first time magic happened</td>\n",
       "      <td>The Fantasticks</td>\n",
       "      <td>0.0</td>\n",
       "      <td>5.5</td>\n",
       "      <td>22.0</td>\n",
       "      <td>NaN</td>\n",
       "    </tr>\n",
       "    <tr>\n",
       "      <th>2</th>\n",
       "      <td>tt0113092</td>\n",
       "      <td>0.0</td>\n",
       "      <td>NaN</td>\n",
       "      <td>NaN</td>\n",
       "      <td>0.0</td>\n",
       "      <td>[{'id': 878, 'name': 'Science Fiction'}]</td>\n",
       "      <td>NaN</td>\n",
       "      <td>110977.0</td>\n",
       "      <td>en</td>\n",
       "      <td>For the Cause</td>\n",
       "      <td>...</td>\n",
       "      <td>0.0</td>\n",
       "      <td>100.0</td>\n",
       "      <td>[{'english_name': 'English', 'iso_639_1': 'en'...</td>\n",
       "      <td>Released</td>\n",
       "      <td>The ultimate showdown on a forbidden planet.</td>\n",
       "      <td>For the Cause</td>\n",
       "      <td>0.0</td>\n",
       "      <td>5.1</td>\n",
       "      <td>8.0</td>\n",
       "      <td>NaN</td>\n",
       "    </tr>\n",
       "    <tr>\n",
       "      <th>3</th>\n",
       "      <td>tt0116391</td>\n",
       "      <td>0.0</td>\n",
       "      <td>NaN</td>\n",
       "      <td>NaN</td>\n",
       "      <td>0.0</td>\n",
       "      <td>[{'id': 18, 'name': 'Drama'}, {'id': 28, 'name...</td>\n",
       "      <td>NaN</td>\n",
       "      <td>442869.0</td>\n",
       "      <td>hi</td>\n",
       "      <td>Gang</td>\n",
       "      <td>...</td>\n",
       "      <td>0.0</td>\n",
       "      <td>152.0</td>\n",
       "      <td>[{'english_name': 'Hindi', 'iso_639_1': 'hi', ...</td>\n",
       "      <td>Released</td>\n",
       "      <td>NaN</td>\n",
       "      <td>Gang</td>\n",
       "      <td>0.0</td>\n",
       "      <td>4.0</td>\n",
       "      <td>1.0</td>\n",
       "      <td>NaN</td>\n",
       "    </tr>\n",
       "    <tr>\n",
       "      <th>4</th>\n",
       "      <td>tt0118694</td>\n",
       "      <td>0.0</td>\n",
       "      <td>/n4GJFGzsc7NinI1VeGDXIcQjtU2.jpg</td>\n",
       "      <td>{'id': 1131062, 'name': 'Wong Kar-Wai’s Love T...</td>\n",
       "      <td>150000.0</td>\n",
       "      <td>[{'id': 18, 'name': 'Drama'}, {'id': 10749, 'n...</td>\n",
       "      <td>NaN</td>\n",
       "      <td>843.0</td>\n",
       "      <td>cn</td>\n",
       "      <td>花樣年華</td>\n",
       "      <td>...</td>\n",
       "      <td>14204632.0</td>\n",
       "      <td>99.0</td>\n",
       "      <td>[{'english_name': 'Cantonese', 'iso_639_1': 'c...</td>\n",
       "      <td>Released</td>\n",
       "      <td>Feel the heat, keep the feeling burning, let t...</td>\n",
       "      <td>In the Mood for Love</td>\n",
       "      <td>0.0</td>\n",
       "      <td>8.1</td>\n",
       "      <td>2244.0</td>\n",
       "      <td>PG</td>\n",
       "    </tr>\n",
       "  </tbody>\n",
       "</table>\n",
       "<p>5 rows × 26 columns</p>\n",
       "</div>"
      ],
      "text/plain": [
       "     imdb_id  adult                     backdrop_path  \\\n",
       "0          0    NaN                               NaN   \n",
       "1  tt0113026    0.0  /vMFs7nw6P0bIV1jDsQpxAieAVnH.jpg   \n",
       "2  tt0113092    0.0                               NaN   \n",
       "3  tt0116391    0.0                               NaN   \n",
       "4  tt0118694    0.0  /n4GJFGzsc7NinI1VeGDXIcQjtU2.jpg   \n",
       "\n",
       "                               belongs_to_collection      budget  \\\n",
       "0                                                NaN         NaN   \n",
       "1                                                NaN  10000000.0   \n",
       "2                                                NaN         0.0   \n",
       "3                                                NaN         0.0   \n",
       "4  {'id': 1131062, 'name': 'Wong Kar-Wai’s Love T...    150000.0   \n",
       "\n",
       "                                              genres homepage        id  \\\n",
       "0                                                NaN      NaN       NaN   \n",
       "1  [{'id': 35, 'name': 'Comedy'}, {'id': 10402, '...      NaN   62127.0   \n",
       "2           [{'id': 878, 'name': 'Science Fiction'}]      NaN  110977.0   \n",
       "3  [{'id': 18, 'name': 'Drama'}, {'id': 28, 'name...      NaN  442869.0   \n",
       "4  [{'id': 18, 'name': 'Drama'}, {'id': 10749, 'n...      NaN     843.0   \n",
       "\n",
       "  original_language   original_title  ...     revenue  runtime  \\\n",
       "0               NaN              NaN  ...         NaN      NaN   \n",
       "1                en  The Fantasticks  ...         0.0     86.0   \n",
       "2                en    For the Cause  ...         0.0    100.0   \n",
       "3                hi             Gang  ...         0.0    152.0   \n",
       "4                cn             花樣年華  ...  14204632.0     99.0   \n",
       "\n",
       "                                    spoken_languages    status  \\\n",
       "0                                                NaN       NaN   \n",
       "1  [{'english_name': 'English', 'iso_639_1': 'en'...  Released   \n",
       "2  [{'english_name': 'English', 'iso_639_1': 'en'...  Released   \n",
       "3  [{'english_name': 'Hindi', 'iso_639_1': 'hi', ...  Released   \n",
       "4  [{'english_name': 'Cantonese', 'iso_639_1': 'c...  Released   \n",
       "\n",
       "                                             tagline                 title  \\\n",
       "0                                                NaN                   NaN   \n",
       "1      Try to remember the first time magic happened       The Fantasticks   \n",
       "2       The ultimate showdown on a forbidden planet.         For the Cause   \n",
       "3                                                NaN                  Gang   \n",
       "4  Feel the heat, keep the feeling burning, let t...  In the Mood for Love   \n",
       "\n",
       "   video  vote_average vote_count certification  \n",
       "0    NaN           NaN        NaN           NaN  \n",
       "1    0.0           5.5       22.0           NaN  \n",
       "2    0.0           5.1        8.0           NaN  \n",
       "3    0.0           4.0        1.0           NaN  \n",
       "4    0.0           8.1     2244.0            PG  \n",
       "\n",
       "[5 rows x 26 columns]"
      ]
     },
     "execution_count": 5,
     "metadata": {},
     "output_type": "execute_result"
    }
   ],
   "source": [
    "df = pd.concat([df_2000, df_2001])\n",
    "df.head()"
   ]
  },
  {
   "cell_type": "code",
   "execution_count": 6,
   "id": "cc328aeb",
   "metadata": {},
   "outputs": [
    {
     "data": {
      "text/plain": [
       "2590"
      ]
     },
     "execution_count": 6,
     "metadata": {},
     "output_type": "execute_result"
    }
   ],
   "source": [
    "len(df)"
   ]
  },
  {
   "cell_type": "markdown",
   "id": "f49e5394",
   "metadata": {},
   "source": [
    "### 1. Movies With Values > 0 for Budget or Revenue"
   ]
  },
  {
   "cell_type": "code",
   "execution_count": 7,
   "id": "58aafe04",
   "metadata": {},
   "outputs": [
    {
     "data": {
      "text/html": [
       "<div>\n",
       "<style scoped>\n",
       "    .dataframe tbody tr th:only-of-type {\n",
       "        vertical-align: middle;\n",
       "    }\n",
       "\n",
       "    .dataframe tbody tr th {\n",
       "        vertical-align: top;\n",
       "    }\n",
       "\n",
       "    .dataframe thead th {\n",
       "        text-align: right;\n",
       "    }\n",
       "</style>\n",
       "<table border=\"1\" class=\"dataframe\">\n",
       "  <thead>\n",
       "    <tr style=\"text-align: right;\">\n",
       "      <th></th>\n",
       "      <th>imdb_id</th>\n",
       "      <th>adult</th>\n",
       "      <th>backdrop_path</th>\n",
       "      <th>belongs_to_collection</th>\n",
       "      <th>budget</th>\n",
       "      <th>genres</th>\n",
       "      <th>homepage</th>\n",
       "      <th>id</th>\n",
       "      <th>original_language</th>\n",
       "      <th>original_title</th>\n",
       "      <th>...</th>\n",
       "      <th>revenue</th>\n",
       "      <th>runtime</th>\n",
       "      <th>spoken_languages</th>\n",
       "      <th>status</th>\n",
       "      <th>tagline</th>\n",
       "      <th>title</th>\n",
       "      <th>video</th>\n",
       "      <th>vote_average</th>\n",
       "      <th>vote_count</th>\n",
       "      <th>certification</th>\n",
       "    </tr>\n",
       "  </thead>\n",
       "  <tbody>\n",
       "    <tr>\n",
       "      <th>1</th>\n",
       "      <td>tt0113026</td>\n",
       "      <td>0.0</td>\n",
       "      <td>/vMFs7nw6P0bIV1jDsQpxAieAVnH.jpg</td>\n",
       "      <td>NaN</td>\n",
       "      <td>10000000.0</td>\n",
       "      <td>[{'id': 35, 'name': 'Comedy'}, {'id': 10402, '...</td>\n",
       "      <td>NaN</td>\n",
       "      <td>62127.0</td>\n",
       "      <td>en</td>\n",
       "      <td>The Fantasticks</td>\n",
       "      <td>...</td>\n",
       "      <td>0.0</td>\n",
       "      <td>86.0</td>\n",
       "      <td>[{'english_name': 'English', 'iso_639_1': 'en'...</td>\n",
       "      <td>Released</td>\n",
       "      <td>Try to remember the first time magic happened</td>\n",
       "      <td>The Fantasticks</td>\n",
       "      <td>0.0</td>\n",
       "      <td>5.5</td>\n",
       "      <td>22.0</td>\n",
       "      <td>NaN</td>\n",
       "    </tr>\n",
       "    <tr>\n",
       "      <th>4</th>\n",
       "      <td>tt0118694</td>\n",
       "      <td>0.0</td>\n",
       "      <td>/n4GJFGzsc7NinI1VeGDXIcQjtU2.jpg</td>\n",
       "      <td>{'id': 1131062, 'name': 'Wong Kar-Wai’s Love T...</td>\n",
       "      <td>150000.0</td>\n",
       "      <td>[{'id': 18, 'name': 'Drama'}, {'id': 10749, 'n...</td>\n",
       "      <td>NaN</td>\n",
       "      <td>843.0</td>\n",
       "      <td>cn</td>\n",
       "      <td>花樣年華</td>\n",
       "      <td>...</td>\n",
       "      <td>14204632.0</td>\n",
       "      <td>99.0</td>\n",
       "      <td>[{'english_name': 'Cantonese', 'iso_639_1': 'c...</td>\n",
       "      <td>Released</td>\n",
       "      <td>Feel the heat, keep the feeling burning, let t...</td>\n",
       "      <td>In the Mood for Love</td>\n",
       "      <td>0.0</td>\n",
       "      <td>8.1</td>\n",
       "      <td>2244.0</td>\n",
       "      <td>PG</td>\n",
       "    </tr>\n",
       "  </tbody>\n",
       "</table>\n",
       "<p>2 rows × 26 columns</p>\n",
       "</div>"
      ],
      "text/plain": [
       "     imdb_id  adult                     backdrop_path  \\\n",
       "1  tt0113026    0.0  /vMFs7nw6P0bIV1jDsQpxAieAVnH.jpg   \n",
       "4  tt0118694    0.0  /n4GJFGzsc7NinI1VeGDXIcQjtU2.jpg   \n",
       "\n",
       "                               belongs_to_collection      budget  \\\n",
       "1                                                NaN  10000000.0   \n",
       "4  {'id': 1131062, 'name': 'Wong Kar-Wai’s Love T...    150000.0   \n",
       "\n",
       "                                              genres homepage       id  \\\n",
       "1  [{'id': 35, 'name': 'Comedy'}, {'id': 10402, '...      NaN  62127.0   \n",
       "4  [{'id': 18, 'name': 'Drama'}, {'id': 10749, 'n...      NaN    843.0   \n",
       "\n",
       "  original_language   original_title  ...     revenue  runtime  \\\n",
       "1                en  The Fantasticks  ...         0.0     86.0   \n",
       "4                cn             花樣年華  ...  14204632.0     99.0   \n",
       "\n",
       "                                    spoken_languages    status  \\\n",
       "1  [{'english_name': 'English', 'iso_639_1': 'en'...  Released   \n",
       "4  [{'english_name': 'Cantonese', 'iso_639_1': 'c...  Released   \n",
       "\n",
       "                                             tagline                 title  \\\n",
       "1      Try to remember the first time magic happened       The Fantasticks   \n",
       "4  Feel the heat, keep the feeling burning, let t...  In the Mood for Love   \n",
       "\n",
       "   video  vote_average vote_count certification  \n",
       "1    0.0           5.5       22.0           NaN  \n",
       "4    0.0           8.1     2244.0            PG  \n",
       "\n",
       "[2 rows x 26 columns]"
      ]
     },
     "execution_count": 7,
     "metadata": {},
     "output_type": "execute_result"
    }
   ],
   "source": [
    "df_movie_values = df[(df['budget'] > 0) | (df['revenue'] > 0)]\n",
    "df_movie_values.head(2)"
   ]
  },
  {
   "cell_type": "code",
   "execution_count": 8,
   "id": "3fe36d5a",
   "metadata": {},
   "outputs": [
    {
     "name": "stdout",
     "output_type": "stream",
     "text": [
      "Movies with either Budget or Revenue values above 0 (zero): 639\n"
     ]
    }
   ],
   "source": [
    "print(f'Movies with either Budget or Revenue values above 0 (zero): {len(df_movie_values)}')"
   ]
  },
  {
   "cell_type": "markdown",
   "id": "edca771c",
   "metadata": {},
   "source": [
    "### 2. Number of Movies in Each Certification Category\n",
    "- G, PG, PG-13, R"
   ]
  },
  {
   "cell_type": "code",
   "execution_count": 9,
   "id": "7299211b",
   "metadata": {},
   "outputs": [
    {
     "data": {
      "text/plain": [
       "Index(['R', 'PG-13', 'PG', 'NR', 'G'], dtype='object')"
      ]
     },
     "execution_count": 9,
     "metadata": {},
     "output_type": "execute_result"
    }
   ],
   "source": [
    "ind = df_movie_values['certification'].value_counts().index\n",
    "ind"
   ]
  },
  {
   "cell_type": "code",
   "execution_count": 10,
   "id": "9ad75397",
   "metadata": {},
   "outputs": [
    {
     "data": {
      "text/plain": [
       "array([232, 131,  35,  17,  15], dtype=int64)"
      ]
     },
     "execution_count": 10,
     "metadata": {},
     "output_type": "execute_result"
    }
   ],
   "source": [
    "val = df_movie_values['certification'].value_counts().values\n",
    "val"
   ]
  },
  {
   "cell_type": "code",
   "execution_count": 147,
   "id": "fa88f7c0",
   "metadata": {},
   "outputs": [
    {
     "data": {
      "image/png": "[encoded data removed]",
      "text/plain": [
       "<Figure size 640x480 with 1 Axes>"
      ]
     },
     "metadata": {},
     "output_type": "display_data"
    }
   ],
   "source": [
    "plt.style.use('ggplot')\n",
    "\n",
    "fig, ax = plt.subplots()\n",
    "\n",
    "bars = ax.bar(ind, val)\n",
    "ax.bar_label(bars)\n",
    "\n",
    "ax.set_xlabel('Certification')\n",
    "ax.set_ylabel('Number of Movies')\n",
    "ax.set_title('Number of Movies per Certification');"
   ]
  },
  {
   "cell_type": "markdown",
   "id": "5b058899",
   "metadata": {},
   "source": [
    "### 3. Average Revenue per Certification Category"
   ]
  },
  {
   "cell_type": "code",
   "execution_count": 52,
   "id": "3a9b5a99",
   "metadata": {},
   "outputs": [
    {
     "data": {
      "text/plain": [
       "certification\n",
       "G       117,364,760.80\n",
       "NR        9,588,674.35\n",
       "PG      110,679,080.09\n",
       "PG-13    99,287,858.33\n",
       "R        32,660,007.84\n",
       "Name: revenue, dtype: float64"
      ]
     },
     "execution_count": 52,
     "metadata": {},
     "output_type": "execute_result"
    }
   ],
   "source": [
    "pd.options.display.float_format = '{:,.2f}'.format\n",
    "\n",
    "avg_revenue = df_movie_values.groupby('certification')['revenue'].mean()\n",
    "avg_revenue"
   ]
  },
  {
   "cell_type": "code",
   "execution_count": 89,
   "id": "d7db0669",
   "metadata": {},
   "outputs": [
    {
     "data": {
      "text/plain": [
       "{'G': 117364760.8,\n",
       " 'NR': 9588674.35,\n",
       " 'PG': 110679080.09,\n",
       " 'PG-13': 99287858.33,\n",
       " 'R': 32660007.84}"
      ]
     },
     "execution_count": 89,
     "metadata": {},
     "output_type": "execute_result"
    }
   ],
   "source": [
    "revenue = {avg_revenue.index[0]:avg_revenue.values[0].round(2),\n",
    "           avg_revenue.index[1]:avg_revenue.values[1].round(2), \n",
    "           avg_revenue.index[2]:avg_revenue.values[2].round(2),\n",
    "           avg_revenue.index[3]:avg_revenue.values[3].round(2),\n",
    "           avg_revenue.index[4]:avg_revenue.values[4].round(2)}\n",
    "revenue"
   ]
  },
  {
   "cell_type": "code",
   "execution_count": 137,
   "id": "dc572323",
   "metadata": {},
   "outputs": [],
   "source": [
    "# function to add value labels\n",
    "# from https://www.geeksforgeeks.org/adding-value-labels-on-a-matplotlib-bar-chart/\n",
    "def addlabels(x,y):\n",
    "    for i in range(len(x)):\n",
    "        plt.text(i, y[i]+2000000, '{:,.0f}'.format(y[i]), ha = 'center', color='Blue')"
   ]
  },
  {
   "cell_type": "code",
   "execution_count": 149,
   "id": "205ac841",
   "metadata": {},
   "outputs": [],
   "source": [
    "x = list(revenue.keys())\n",
    "y = [revenue['PG'], revenue['R'], revenue['G'], revenue['PG-13'], revenue['NR']]"
   ]
  },
  {
   "cell_type": "code",
   "execution_count": 150,
   "id": "8e012db2",
   "metadata": {},
   "outputs": [
    {
     "data": {
      "image/png": "[encoded data removed]",
      "text/plain": [
       "<Figure size 640x480 with 1 Axes>"
      ]
     },
     "metadata": {},
     "output_type": "display_data"
    }
   ],
   "source": [
    "fig, ax = plt.subplots()\n",
    "\n",
    "ax = sns.barplot(data=df_movie_values, x=df_movie_values['certification'],\n",
    "                y=df_movie_values['revenue'], errcolor='.7')\n",
    "\n",
    "plt.gcf().axes[0].yaxis.get_major_formatter().set_scientific(False)\n",
    "ax.yaxis.set_major_formatter(mpl.ticker.StrMethodFormatter('{x:,.0f}'))\n",
    "\n",
    "addlabels(x,y)\n",
    "\n",
    "ax.set_xlabel('Certification')\n",
    "ax.set_ylabel('Average Revenue')\n",
    "ax.set_title('Average Revenue per Certification');"
   ]
  },
  {
   "cell_type": "markdown",
   "id": "799d2a4d",
   "metadata": {},
   "source": [
    "### 4. Average Budget per Certification Category"
   ]
  },
  {
   "cell_type": "code",
   "execution_count": 143,
   "id": "38c234c1",
   "metadata": {},
   "outputs": [
    {
     "data": {
      "text/plain": [
       "certification\n",
       "G       38,133,333.33\n",
       "NR       6,302,358.47\n",
       "PG      44,828,492.40\n",
       "PG-13   42,993,571.96\n",
       "R       19,451,743.32\n",
       "Name: budget, dtype: float64"
      ]
     },
     "execution_count": 143,
     "metadata": {},
     "output_type": "execute_result"
    }
   ],
   "source": [
    "avg_budget = df_movie_values.groupby('certification')['budget'].mean()\n",
    "avg_budget"
   ]
  },
  {
   "cell_type": "code",
   "execution_count": 144,
   "id": "3ad2a732",
   "metadata": {},
   "outputs": [
    {
     "data": {
      "text/plain": [
       "{'G': 38133333.33,\n",
       " 'NR': 6302358.47,\n",
       " 'PG': 44828492.4,\n",
       " 'PG-13': 42993571.96,\n",
       " 'R': 19451743.32}"
      ]
     },
     "execution_count": 144,
     "metadata": {},
     "output_type": "execute_result"
    }
   ],
   "source": [
    "budget = {avg_budget.index[0]:avg_budget.values[0].round(2),\n",
    "           avg_budget.index[1]:avg_budget.values[1].round(2), \n",
    "           avg_budget.index[2]:avg_budget.values[2].round(2),\n",
    "           avg_budget.index[3]:avg_budget.values[3].round(2),\n",
    "           avg_budget.index[4]:avg_budget.values[4].round(2)}\n",
    "budget"
   ]
  },
  {
   "cell_type": "code",
   "execution_count": 152,
   "id": "6f9733dd",
   "metadata": {},
   "outputs": [],
   "source": [
    "x2 = list(budget.keys())\n",
    "y2 = [budget['PG'], budget['R'], budget['G'], budget['PG-13'], budget['NR']]"
   ]
  },
  {
   "cell_type": "code",
   "execution_count": 153,
   "id": "a4b37231",
   "metadata": {},
   "outputs": [
    {
     "data": {
      "image/png": "[encoded data removed]",
      "text/plain": [
       "<Figure size 640x480 with 1 Axes>"
      ]
     },
     "metadata": {},
     "output_type": "display_data"
    }
   ],
   "source": [
    "fig, ax = plt.subplots()\n",
    "\n",
    "ax = sns.barplot(data=df_movie_values, x=df_movie_values['certification'],\n",
    "                y=df_movie_values['budget'], errcolor='.7')\n",
    "\n",
    "plt.gcf().axes[0].yaxis.get_major_formatter().set_scientific(False)\n",
    "ax.yaxis.set_major_formatter(mpl.ticker.StrMethodFormatter('{x:,.0f}'))\n",
    "\n",
    "addlabels(x2,y2)\n",
    "\n",
    "ax.set_xlabel('Certification')\n",
    "ax.set_ylabel('Average Budget')\n",
    "ax.set_title('Average Budget per Certification');"
   ]
  },
  {
   "cell_type": "code",
   "execution_count": 155,
   "id": "5c218cda",
   "metadata": {},
   "outputs": [],
   "source": [
    "df_movie_values.to_csv(\"Data/tmdb_results_combined.csv.gz\", compression='gzip',\n",
    "                      index=False)"
   ]
  }
 ],
 "metadata": {
  "kernelspec": {
   "display_name": "Python (dojo-env)",
   "language": "python",
   "name": "dojo-env"
  },
  "language_info": {
   "codemirror_mode": {
    "name": "ipython",
    "version": 3
   },
   "file_extension": ".py",
   "mimetype": "text/x-python",
   "name": "python",
   "nbconvert_exporter": "python",
   "pygments_lexer": "ipython3",
   "version": "3.9.15"
  },
  "toc": {
   "base_numbering": 1,
   "nav_menu": {},
   "number_sections": false,
   "sideBar": true,
   "skip_h1_title": false,
   "title_cell": "Table of Contents",
   "title_sidebar": "Contents",
   "toc_cell": false,
   "toc_position": {
    "height": "calc(100% - 180px)",
    "left": "10px",
    "top": "150px",
    "width": "254.115px"
   },
   "toc_section_display": true,
   "toc_window_display": true
  },
  "varInspector": {
   "cols": {
    "lenName": 16,
    "lenType": 16,
    "lenVar": 40
   },
   "kernels_config": {
    "python": {
     "delete_cmd_postfix": "",
     "delete_cmd_prefix": "del ",
     "library": "var_list.py",
     "varRefreshCmd": "print(var_dic_list())"
    },
    "r": {
     "delete_cmd_postfix": ") ",
     "delete_cmd_prefix": "rm(",
     "library": "var_list.r",
     "varRefreshCmd": "cat(var_dic_list()) "
    }
   },
   "types_to_exclude": [
    "module",
    "function",
    "builtin_function_or_method",
    "instance",
    "_Feature"
   ],
   "window_display": false
  }
 },
 "nbformat": 4,
 "nbformat_minor": 5
}
